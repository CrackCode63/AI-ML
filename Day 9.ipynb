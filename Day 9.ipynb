{
 "cells": [
  {
   "cell_type": "code",
   "execution_count": 5,
   "id": "3a89c62e-ddc7-4aaf-a0de-89f2178af185",
   "metadata": {},
   "outputs": [
    {
     "name": "stdout",
     "output_type": "stream",
     "text": [
      "[[1 2 3]\n",
      " [4 5 5]]\n",
      "\n",
      "[5 7 8]\n",
      "\n",
      "[ 6 14]\n"
     ]
    }
   ],
   "source": [
    "from numpy import *\n",
    "a = array([(1,2,3),(4,5,5)])\n",
    "print(a)\n",
    "print()\n",
    "\n",
    "# print()\n",
    "print(a.sum(axis=0))\n",
    "print()\n",
    "print(a.sum(axis=1))"
   ]
  },
  {
   "cell_type": "code",
   "execution_count": 15,
   "id": "6cfc96b6-4a93-4732-b335-22bb03198586",
   "metadata": {},
   "outputs": [
    {
     "name": "stdout",
     "output_type": "stream",
     "text": [
      "[[1 2 3]\n",
      " [4 5 6]]\n",
      "\n",
      "[[1 2 3 1 2 3]\n",
      " [4 5 6 4 5 6]]\n",
      "\n",
      "[[1 2 3]\n",
      " [4 5 6]\n",
      " [1 2 3]\n",
      " [4 5 6]]\n"
     ]
    }
   ],
   "source": [
    "from numpy import *\n",
    "a = array([(1,2,3),(4,5,6)])\n",
    "b = array([(1,2,3),(4,5,6)])\n",
    "print(a)\n",
    "print()\n",
    "print(hstack((a,b)))\n",
    "# hstack() used for horizontal(row) stacking.\n",
    "# it takes array name as arguments.\n",
    "print()\n",
    "print(vstack((a,b)))\n",
    "# hstack() used for vertical(column) stacking.\n",
    "# it takes array name as arguments.\n"
   ]
  },
  {
   "cell_type": "code",
   "execution_count": 20,
   "id": "061b8e49-64f1-40d9-8d37-e9dba9f2f125",
   "metadata": {},
   "outputs": [
    {
     "name": "stdout",
     "output_type": "stream",
     "text": [
      "[[1 2 3]\n",
      " [4 5 6]]\n",
      "\n",
      "[1 2 3 4 5 6]\n"
     ]
    }
   ],
   "source": [
    "from numpy import *\n",
    "a = array([(1,2,3),(4,5,6)])\n",
    "print(a)\n",
    "print()\n",
    "print(a.ravel())\n",
    "# ravel() fun is used to  change 2D dimension into 1D array."
   ]
  }
 ],
 "metadata": {
  "kernelspec": {
   "display_name": "Python 3 (ipykernel)",
   "language": "python",
   "name": "python3"
  },
  "language_info": {
   "codemirror_mode": {
    "name": "ipython",
    "version": 3
   },
   "file_extension": ".py",
   "mimetype": "text/x-python",
   "name": "python",
   "nbconvert_exporter": "python",
   "pygments_lexer": "ipython3",
   "version": "3.11.1"
  }
 },
 "nbformat": 4,
 "nbformat_minor": 5
}
