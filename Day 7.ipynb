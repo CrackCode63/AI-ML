{
 "cells": [
  {
   "cell_type": "code",
   "execution_count": 12,
   "id": "e2f51790-e9f8-44c9-ad93-4a822a1b355c",
   "metadata": {},
   "outputs": [
    {
     "name": "stdout",
     "output_type": "stream",
     "text": [
      "[[1 2 3]\n",
      " [4 5 6]\n",
      " [7 8 9]]\n",
      "9\n",
      "After converting 3D array into 1D array.\n",
      "[1 2 3 4 5 6 7 8 9]\n"
     ]
    }
   ],
   "source": [
    "from numpy import *\n",
    "arr1 = array([\n",
    "                [1,2,3],\n",
    "                [4,5,6],\n",
    "                [7,8,9]\n",
    "])\n",
    "             \n",
    "print(arr1)\n",
    "print(arr1[2,2])\n",
    "print(\"After converting 3D array into 1D array.\")\n",
    "arr2 = arr1.flatten()\n",
    "# flatten() fun is used to change the dimension of the array.\n",
    "print(arr2)\n"
   ]
  },
  {
   "cell_type": "code",
   "execution_count": 10,
   "id": "2041de46-f937-40ed-9f79-020fd7127544",
   "metadata": {},
   "outputs": [
    {
     "name": "stdout",
     "output_type": "stream",
     "text": [
      "[[1 2]\n",
      " [3 4]]\n"
     ]
    }
   ],
   "source": [
    "# coverting a 1D array into 2D array.\n",
    "from numpy import *\n",
    "arr1 = array([1,2,3,4])\n",
    "arr2 = arr1.reshape(2,2)\n",
    "# reshape() fun is used to change 1D array into 2D or 3D array. \n",
    "# It takes no. of rows and columns as an argument.\n",
    "print(arr2)"
   ]
  },
  {
   "cell_type": "code",
   "execution_count": 4,
   "id": "93328a6d-b43d-4c27-9e92-27330efbea87",
   "metadata": {},
   "outputs": [
    {
     "name": "stdout",
     "output_type": "stream",
     "text": [
      "hello\n"
     ]
    }
   ],
   "source": [
    "print(\"hello\")\n"
   ]
  },
  {
   "cell_type": "code",
   "execution_count": 10,
   "id": "9407d8fc-fc44-4028-9833-eb439971efc9",
   "metadata": {},
   "outputs": [
    {
     "name": "stdout",
     "output_type": "stream",
     "text": [
      "[[ 1  2  3]\n",
      " [ 4  5  6]\n",
      " [ 7  8  9]\n",
      " [10 11 12]]\n"
     ]
    }
   ],
   "source": [
    "from numpy import *\n",
    "arr1 = array([\n",
    "    [1,2,3],\n",
    "    [4,5,6],\n",
    "    [7,8,9],\n",
    "    [10,11,12]\n",
    "])\n",
    "print(arr1)\n",
    "# convert an array in 3D array\n",
    "arr2= arr1.reshape(2,2,3)\n"
   ]
  },
  {
   "cell_type": "code",
   "execution_count": 20,
   "id": "eddc766c-c2d5-4b18-b90d-0a8b841f038a",
   "metadata": {},
   "outputs": [
    {
     "name": "stdout",
     "output_type": "stream",
     "text": [
      "[0. 0. 0. 0. 0.]\n",
      "[1. 1. 1. 1. 1.]\n",
      "[1 3 5 7 9]\n",
      "[1.         1.22222222 1.44444444 1.66666667 1.88888889 2.11111111\n",
      " 2.33333333 2.55555556 2.77777778 3.        ]\n"
     ]
    }
   ],
   "source": [
    "from numpy import *\n",
    "arr1 = zeros(5)\n",
    "arr2 = ones(5)\n",
    "arr3 = arange(1,10,2)\n",
    "arr4 = linspace(1,3,10)\n",
    "print(arr1)\n",
    "print(arr2)\n",
    "print(arr3)\n",
    "print(arr4)"
   ]
  },
  {
   "cell_type": "code",
   "execution_count": 16,
   "id": "cd4ee3fc-40c4-4cfd-b210-f466ec8ebf23",
   "metadata": {},
   "outputs": [
    {
     "name": "stdout",
     "output_type": "stream",
     "text": [
      "hello World!\n"
     ]
    }
   ],
   "source": [
    "print(\"hello\",end = \" \")\n",
    "print(\"World!\")\n"
   ]
  }
 ],
 "metadata": {
  "kernelspec": {
   "display_name": "Python 3 (ipykernel)",
   "language": "python",
   "name": "python3"
  },
  "language_info": {
   "codemirror_mode": {
    "name": "ipython",
    "version": 3
   },
   "file_extension": ".py",
   "mimetype": "text/x-python",
   "name": "python",
   "nbconvert_exporter": "python",
   "pygments_lexer": "ipython3",
   "version": "3.11.1"
  }
 },
 "nbformat": 4,
 "nbformat_minor": 5
}
