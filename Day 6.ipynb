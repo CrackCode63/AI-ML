{
 "cells": [
  {
   "cell_type": "code",
   "execution_count": 1,
   "id": "20fa4622-baa4-4958-a29d-755505b1c75d",
   "metadata": {},
   "outputs": [
    {
     "name": "stdout",
     "output_type": "stream",
     "text": [
      "8\n"
     ]
    }
   ],
   "source": [
    "print(4+4)"
   ]
  },
  {
   "cell_type": "code",
   "execution_count": 2,
   "id": "db007a6d-9cd0-46e4-a999-4502f00f88ca",
   "metadata": {},
   "outputs": [
    {
     "name": "stdout",
     "output_type": "stream",
     "text": [
      "hello\n"
     ]
    }
   ],
   "source": [
    "print(\"hello\")"
   ]
  },
  {
   "cell_type": "code",
   "execution_count": 3,
   "id": "cc758902-27a1-413a-bc46-ceef347ada4c",
   "metadata": {},
   "outputs": [
    {
     "name": "stdout",
     "output_type": "stream",
     "text": [
      "[1 2 3 4 5]\n",
      "[0.         0.69314718 1.09861229 1.38629436 1.60943791]\n",
      "[1.         1.41421356 1.73205081 2.         2.23606798]\n",
      "15\n",
      "5\n",
      "1\n",
      "[ 0.         -0.98803162  0.85090352  0.89399666]\n"
     ]
    }
   ],
   "source": [
    "from numpy import *\n",
    "arr1 = array([1,2,3,4,5])\n",
    "print(arr1)\n",
    "print(log(arr1))\n",
    "print(sqrt(arr1))\n",
    "# print()\n",
    "print(sum(arr1))\n",
    "print(max(arr1))\n",
    "print(min(arr1))\n",
    "arr2= array([0,30,45,90])\n",
    "print(sin(arr2))"
   ]
  },
  {
   "cell_type": "code",
   "execution_count": 4,
   "id": "949f7db4-44e4-4448-b726-3124a59c0a79",
   "metadata": {},
   "outputs": [
    {
     "name": "stdout",
     "output_type": "stream",
     "text": [
      "[1 2 3 4 5]\n",
      "[1 2 3 4 5]\n",
      "<class 'numpy.ndarray'>\n",
      "int32\n",
      "[1 2 3 4 5 1 2 3 4 5]\n"
     ]
    }
   ],
   "source": [
    "import numpy as np\n",
    "arr1 = np.array([1,2,3,4,5])\n",
    "print(arr1)\n",
    "# arr2= np.array([5])\n",
    "arr2 = arr1;\n",
    "print(arr2);\n",
    "print(type(arr2))\n",
    "print(arr2.dtype)\n",
    "print(concatenate([arr1,arr2]))"
   ]
  },
  {
   "cell_type": "code",
   "execution_count": 5,
   "id": "84d4b0e3-571b-497e-ad07-a16b70545759",
   "metadata": {},
   "outputs": [
    {
     "name": "stdout",
     "output_type": "stream",
     "text": [
      "[[1 2]\n",
      " [3 4]]\n",
      "the dimension of arr2 is: 2\n",
      "the no of rows and columns is: (2, 2)\n",
      "the total no of elements is: 4\n"
     ]
    }
   ],
   "source": [
    "# making 2D array\n",
    "from numpy import *\n",
    "# arr1= array([{1,2},{3,4}])\n",
    "arr2= array([[1,2],[3,4]])\n",
    "# print(arr1)\n",
    "print(arr2)\n",
    "# print(arr1.ndim)\n",
    "print(\"the dimension of arr2 is:\",arr2.ndim)\n",
    "print(\"the no of rows and columns is:\",arr2.shape)\n",
    "print(\"the total no of elements is:\",arr2.size)\n",
    "\n"
   ]
  }
 ],
 "metadata": {
  "kernelspec": {
   "display_name": "Python 3 (ipykernel)",
   "language": "python",
   "name": "python3"
  },
  "language_info": {
   "codemirror_mode": {
    "name": "ipython",
    "version": 3
   },
   "file_extension": ".py",
   "mimetype": "text/x-python",
   "name": "python",
   "nbconvert_exporter": "python",
   "pygments_lexer": "ipython3",
   "version": "3.11.1"
  }
 },
 "nbformat": 4,
 "nbformat_minor": 5
}
